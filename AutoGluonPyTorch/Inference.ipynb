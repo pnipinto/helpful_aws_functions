{
 "cells": [
  {
   "cell_type": "markdown",
   "id": "62d83f53-4aa5-49d4-b7b3-6bccd7831b2b",
   "metadata": {},
   "source": [
    "### Deploy registered AG model in MLFlow for RT Inference"
   ]
  },
  {
   "cell_type": "code",
   "execution_count": 2,
   "id": "69a575bc-12e6-477d-8f8b-d17901927ed0",
   "metadata": {},
   "outputs": [],
   "source": [
    "import boto3\n",
    "\n",
    "import mlflow\n",
    "import mlflow.sagemaker as mfs"
   ]
  },
  {
   "cell_type": "code",
   "execution_count": 4,
   "id": "183acd3d-ef66-4f3a-ac08-87921ac03ff5",
   "metadata": {},
   "outputs": [],
   "source": [
    "bucket = 'ag-example-timeseries'\n",
    "\n",
    "# Create S3 client\n",
    "s3 = boto3.client(\"s3\")\n",
    "\n",
    "\n",
    "TRACKING_URI = \"arn:aws:sagemaker:us-east-1:543531862107:mlflow-tracking-server/ag-ex-timeseries\"  # with sagemaker-mlflow plugin\n",
    "EXPERIMENT   = \"autogluon-timeseries\"\n",
    "REGION       = \"us-east-1\"\n",
    "EXEC_ROLE_ARN= \"arn:aws:iam::<acct>:role/<sagemaker-exec-role>\"\n",
    "APP_NAME     = \"ag-ts-endpoint\""
   ]
  },
  {
   "cell_type": "markdown",
   "id": "0219f26a-87b0-4af6-b8d6-0bb1e650dac2",
   "metadata": {},
   "source": [
    "### Inference "
   ]
  },
  {
   "cell_type": "code",
   "execution_count": null,
   "id": "216337ee-b9cd-44c0-a10f-765590c1d4b0",
   "metadata": {},
   "outputs": [],
   "source": [
    "mlflow.set_tracking_uri(TRACKING_URI)\n",
    "client = mlflow.MlflowClient()\n",
    "\n",
    "# pick the latest “ready” run (we set this tag in train.py)\n",
    "runs = client.search_runs(\n",
    "    [client.get_experiment_by_name(EXPERIMENT).experiment_id],\n",
    "    filter_string=\"tags.sagemaker_model_ready = 'true'\",\n",
    "    order_by=[\"attributes.start_time DESC\"],\n",
    "    max_results=1,\n",
    ")\n",
    "if not runs:\n",
    "    raise RuntimeError(\"No MLflow runs tagged sagemaker_model_ready=true were found.\")\n",
    "run_id = runs[0].info.run_id\n",
    "model_uri = f\"runs:/{run_id}/model\"\n",
    "\n",
    "mfs.deploy(\n",
    "    app_name=APP_NAME,\n",
    "    model_uri=model_uri,\n",
    "    mode=\"create\",               # \"replace\" to update in-place\n",
    "    region_name=REGION,\n",
    "    execution_role_arn=EXEC_ROLE_ARN,\n",
    "    instance_type=\"ml.m5.large\",\n",
    "    instance_count=1,\n",
    ")\n",
    "print(\"Deployed endpoint:\", APP_NAME)\n"
   ]
  },
  {
   "cell_type": "code",
   "execution_count": null,
   "id": "7297fb71-8685-4a09-8b4c-b62576e1981b",
   "metadata": {},
   "outputs": [],
   "source": []
  }
 ],
 "metadata": {
  "kernelspec": {
   "display_name": "Python 3 (ipykernel)",
   "language": "python",
   "name": "python3"
  },
  "language_info": {
   "codemirror_mode": {
    "name": "ipython",
    "version": 3
   },
   "file_extension": ".py",
   "mimetype": "text/x-python",
   "name": "python",
   "nbconvert_exporter": "python",
   "pygments_lexer": "ipython3",
   "version": "3.12.9"
  }
 },
 "nbformat": 4,
 "nbformat_minor": 5
}
